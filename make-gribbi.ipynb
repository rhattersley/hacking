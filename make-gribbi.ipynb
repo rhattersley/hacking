{
 "metadata": {
  "name": "",
  "signature": "sha256:41738c07e1399c3d6a5dff6f94f4706ef47d892046f8aba229b3fcb4423a6aa5"
 },
 "nbformat": 3,
 "nbformat_minor": 0,
 "worksheets": [
  {
   "cells": [
    {
     "cell_type": "code",
     "collapsed": false,
     "input": [
      "cd /tmp/iris"
     ],
     "language": "python",
     "metadata": {},
     "outputs": [
      {
       "output_type": "stream",
       "stream": "stdout",
       "text": [
        "/tmp/iris\n"
       ]
      }
     ],
     "prompt_number": 1
    },
    {
     "cell_type": "code",
     "collapsed": false,
     "input": [
      "grib_names = !git ls-files | grep grib | xargs -n 1 basename"
     ],
     "language": "python",
     "metadata": {},
     "outputs": [],
     "prompt_number": 2
    },
    {
     "cell_type": "code",
     "collapsed": false,
     "input": [
      "all_names = !git ls-files | xargs -n 1 basename"
     ],
     "language": "python",
     "metadata": {},
     "outputs": [],
     "prompt_number": 3
    },
    {
     "cell_type": "code",
     "collapsed": false,
     "input": [
      "dross_names = set(all_names) - set(grib_names) - set(['COPYING', 'COPYING.LESSER'])"
     ],
     "language": "python",
     "metadata": {},
     "outputs": [],
     "prompt_number": 4
    },
    {
     "cell_type": "code",
     "collapsed": false,
     "input": [
      "print len(dross_names)\n",
      "list(dross_names)[:5]"
     ],
     "language": "python",
     "metadata": {},
     "outputs": [
      {
       "output_type": "stream",
       "stream": "stdout",
       "text": [
        "1595\n"
       ]
      },
      {
       "metadata": {},
       "output_type": "pyout",
       "prompt_number": 5,
       "text": [
        "['test_um_to_pp.py',\n",
        " 'PuRd_09.txt',\n",
        " '_constraints.py',\n",
        " 'test_std_names.py',\n",
        " 'simple5_midpoint.cml']"
       ]
      }
     ],
     "prompt_number": 5
    },
    {
     "cell_type": "code",
     "collapsed": false,
     "input": [
      "dross = ','.join(list(dross_names)[:])\n",
      "dross[:200]"
     ],
     "language": "python",
     "metadata": {},
     "outputs": [
      {
       "metadata": {},
       "output_type": "pyout",
       "prompt_number": 6,
       "text": [
        "'test_um_to_pp.py,PuRd_09.txt,_constraints.py,test_std_names.py,simple5_midpoint.cml,nimrod_load_rules.py,test_plot.TestHybridHeight.test_bounds.1.png,test_orca_projection.TestOrcaProjection.test_orca_'"
       ]
      }
     ],
     "prompt_number": 6
    },
    {
     "cell_type": "code",
     "collapsed": false,
     "input": [
      "arg = '{' + dross + '}'\n",
      "arg[:200]"
     ],
     "language": "python",
     "metadata": {},
     "outputs": [
      {
       "metadata": {},
       "output_type": "pyout",
       "prompt_number": 7,
       "text": [
        "'{test_um_to_pp.py,PuRd_09.txt,_constraints.py,test_std_names.py,simple5_midpoint.cml,nimrod_load_rules.py,test_plot.TestHybridHeight.test_bounds.1.png,test_orca_projection.TestOrcaProjection.test_orca'"
       ]
      }
     ],
     "prompt_number": 7
    },
    {
     "cell_type": "code",
     "collapsed": false,
     "input": [
      "import subprocess\n",
      "subprocess.check_call(['java', '-jar', '/downloads/bfg-1.12.3.jar', '--no-blob-protection', '--delete-files', arg])"
     ],
     "language": "python",
     "metadata": {},
     "outputs": [
      {
       "metadata": {},
       "output_type": "pyout",
       "prompt_number": 8,
       "text": [
        "0"
       ]
      }
     ],
     "prompt_number": 8
    },
    {
     "cell_type": "code",
     "collapsed": false,
     "input": [
      "for dir_name in ['tools', 'docs', 'analysis', 'experimental', 'io', 'runner',\n",
      "                 'concatenate', 'plot', 'format_interop', '_pyke_rules', 'um',\n",
      "                 'cf', 'pp', 'ff', 'quickplot', 'aux_factory', 'netcdf',\n",
      "                 'name_loaders', 'abf', 'pp_rules', 'nimrod_load_rules',\n",
      "                 'pyke_rules', 'coords', 'cube', 'coord_systems', 'util'\n",
      "                 'coord_categorisation', 'merge', 'system', 'name_grib']:\n",
      "    print 'Trashing:', dir_name\n",
      "    subprocess.check_call(['java', '-jar', '/downloads/bfg-1.12.3.jar', '--no-blob-protection', '--delete-folders', dir_name])"
     ],
     "language": "python",
     "metadata": {},
     "outputs": [
      {
       "output_type": "stream",
       "stream": "stdout",
       "text": [
        "Trashing: coord_categorisation\n",
        "Trashing:"
       ]
      },
      {
       "output_type": "stream",
       "stream": "stdout",
       "text": [
        " merge\n",
        "Trashing:"
       ]
      },
      {
       "output_type": "stream",
       "stream": "stdout",
       "text": [
        " system\n",
        "Trashing:"
       ]
      },
      {
       "output_type": "stream",
       "stream": "stdout",
       "text": [
        " name_grib\n"
       ]
      }
     ],
     "prompt_number": 36
    },
    {
     "cell_type": "code",
     "collapsed": false,
     "input": [
      "!git reset HEAD"
     ],
     "language": "python",
     "metadata": {},
     "outputs": [],
     "prompt_number": 37
    },
    {
     "cell_type": "code",
     "collapsed": false,
     "input": [
      "!git reflog expire --expire=now --all"
     ],
     "language": "python",
     "metadata": {},
     "outputs": [],
     "prompt_number": 38
    },
    {
     "cell_type": "code",
     "collapsed": false,
     "input": [
      "!git gc --prune=now --aggressive"
     ],
     "language": "python",
     "metadata": {},
     "outputs": [
      {
       "output_type": "stream",
       "stream": "stdout",
       "text": [
        "Counting objects: 11136, done.\r\n",
        "Delta compression using up to 8 threads.\r\n",
        "Compressing objects:   0% (1/9920)   \r"
       ]
      },
      {
       "output_type": "stream",
       "stream": "stdout",
       "text": [
        "Compressing objects:   1% (100/9920)   \r",
        "Compressing objects:   2% (199/9920)   \r",
        "Compressing objects:   3% (298/9920)   \r",
        "Compressing objects:   4% (397/9920)   \r",
        "Compressing objects:   5% (496/9920)   \r",
        "Compressing objects:   6% (596/9920)   \r",
        "Compressing objects:   7% (695/9920)   \r",
        "Compressing objects:   8% (794/9920)   \r",
        "Compressing objects:   9% (893/9920)   \r"
       ]
      },
      {
       "output_type": "stream",
       "stream": "stdout",
       "text": [
        "Compressing objects:  10% (992/9920)   \r",
        "Compressing objects:  11% (1092/9920)   \r",
        "Compressing objects:  12% (1191/9920)   \r",
        "Compressing objects:  13% (1290/9920)   \r",
        "Compressing objects:  14% (1389/9920)   \r",
        "Compressing objects:  15% (1488/9920)   \r",
        "Compressing objects:  16% (1588/9920)   \r",
        "Compressing objects:  17% (1687/9920)   \r",
        "Compressing objects:  18% (1786/9920)   \r",
        "Compressing objects:  19% (1885/9920)   \r",
        "Compressing objects:  20% (1984/9920)   \r"
       ]
      },
      {
       "output_type": "stream",
       "stream": "stdout",
       "text": [
        "Compressing objects:  21% (2084/9920)   \r",
        "Compressing objects:  22% (2183/9920)   \r",
        "Compressing objects:  23% (2282/9920)   \r",
        "Compressing objects:  24% (2381/9920)   \r",
        "Compressing objects:  25% (2480/9920)   \r",
        "Compressing objects:  26% (2580/9920)   \r",
        "Compressing objects:  27% (2679/9920)   \r",
        "Compressing objects:  28% (2778/9920)   \r",
        "Compressing objects:  29% (2877/9920)   \r",
        "Compressing objects:  30% (2976/9920)   \r",
        "Compressing objects:  31% (3076/9920)   \r",
        "Compressing objects:  32% (3175/9920)   \r",
        "Compressing objects:  33% (3274/9920)   \r",
        "Compressing objects:  34% (3373/9920)   \r",
        "Compressing objects:  35% (3472/9920)   \r"
       ]
      },
      {
       "output_type": "stream",
       "stream": "stdout",
       "text": [
        "Compressing objects:  36% (3572/9920)   \r",
        "Compressing objects:  37% (3671/9920)   \r",
        "Compressing objects:  38% (3770/9920)   \r",
        "Compressing objects:  39% (3869/9920)   \r",
        "Compressing objects:  40% (3968/9920)   \r",
        "Compressing objects:  41% (4068/9920)   \r",
        "Compressing objects:  42% (4167/9920)   \r",
        "Compressing objects:  43% (4266/9920)   \r",
        "Compressing objects:  44% (4365/9920)   \r",
        "Compressing objects:  45% (4464/9920)   \r",
        "Compressing objects:  46% (4564/9920)   \r"
       ]
      },
      {
       "output_type": "stream",
       "stream": "stdout",
       "text": [
        "Compressing objects:  47% (4663/9920)   \r",
        "Compressing objects:  48% (4762/9920)   \r",
        "Compressing objects:  49% (4861/9920)   \r",
        "Compressing objects:  50% (4960/9920)   \r",
        "Compressing objects:  51% (5060/9920)   \r",
        "Compressing objects:  52% (5159/9920)   \r",
        "Compressing objects:  53% (5258/9920)   \r",
        "Compressing objects:  54% (5357/9920)   \r",
        "Compressing objects:  55% (5456/9920)   \r",
        "Compressing objects:  56% (5556/9920)   \r"
       ]
      },
      {
       "output_type": "stream",
       "stream": "stdout",
       "text": [
        "Compressing objects:  57% (5655/9920)   \r",
        "Compressing objects:  58% (5754/9920)   \r",
        "Compressing objects:  59% (5853/9920)   \r",
        "Compressing objects:  60% (5952/9920)   \r",
        "Compressing objects:  61% (6052/9920)   \r",
        "Compressing objects:  62% (6151/9920)   \r"
       ]
      },
      {
       "output_type": "stream",
       "stream": "stdout",
       "text": [
        "Compressing objects:  63% (6250/9920)   \r",
        "Compressing objects:  64% (6349/9920)   \r",
        "Compressing objects:  65% (6448/9920)   \r",
        "Compressing objects:  66% (6548/9920)   \r",
        "Compressing objects:  67% (6647/9920)   \r"
       ]
      },
      {
       "output_type": "stream",
       "stream": "stdout",
       "text": [
        "Compressing objects:  68% (6746/9920)   \r",
        "Compressing objects:  69% (6845/9920)   \r",
        "Compressing objects:  70% (6944/9920)   \r",
        "Compressing objects:  71% (7044/9920)   \r",
        "Compressing objects:  72% (7143/9920)   \r",
        "Compressing objects:  73% (7242/9920)   \r"
       ]
      },
      {
       "output_type": "stream",
       "stream": "stdout",
       "text": [
        "Compressing objects:  74% (7341/9920)   \r",
        "Compressing objects:  75% (7440/9920)   \r",
        "Compressing objects:  76% (7540/9920)   \r",
        "Compressing objects:  77% (7639/9920)   \r",
        "Compressing objects:  78% (7738/9920)   \r",
        "Compressing objects:  79% (7837/9920)   \r"
       ]
      },
      {
       "output_type": "stream",
       "stream": "stdout",
       "text": [
        "Compressing objects:  80% (7936/9920)   \r",
        "Compressing objects:  81% (8036/9920)   \r",
        "Compressing objects:  82% (8135/9920)   \r",
        "Compressing objects:  83% (8234/9920)   \r",
        "Compressing objects:  84% (8333/9920)   \r",
        "Compressing objects:  85% (8432/9920)   \r"
       ]
      },
      {
       "output_type": "stream",
       "stream": "stdout",
       "text": [
        "Compressing objects:  86% (8532/9920)   \r",
        "Compressing objects:  87% (8631/9920)   \r",
        "Compressing objects:  88% (8730/9920)   \r",
        "Compressing objects:  89% (8829/9920)   \r"
       ]
      },
      {
       "output_type": "stream",
       "stream": "stdout",
       "text": [
        "Compressing objects:  90% (8928/9920)   \r",
        "Compressing objects:  91% (9028/9920)   \r",
        "Compressing objects:  92% (9127/9920)   \r"
       ]
      },
      {
       "output_type": "stream",
       "stream": "stdout",
       "text": [
        "Compressing objects:  93% (9226/9920)   \r",
        "Compressing objects:  94% (9325/9920)   \r"
       ]
      },
      {
       "output_type": "stream",
       "stream": "stdout",
       "text": [
        "Compressing objects:  95% (9424/9920)   \r",
        "Compressing objects:  96% (9524/9920)   \r"
       ]
      },
      {
       "output_type": "stream",
       "stream": "stdout",
       "text": [
        "Compressing objects:  97% (9623/9920)   \r"
       ]
      },
      {
       "output_type": "stream",
       "stream": "stdout",
       "text": [
        "Compressing objects:  97% (9626/9920)   \r"
       ]
      },
      {
       "output_type": "stream",
       "stream": "stdout",
       "text": [
        "Compressing objects:  98% (9722/9920)   \r",
        "Compressing objects:  99% (9821/9920)   \r",
        "Compressing objects: 100% (9920/9920)   \r",
        "Compressing objects: 100% (9920/9920), done.\r\n",
        "Writing objects:   0% (1/11136)   \r",
        "Writing objects:   1% (112/11136)   \r",
        "Writing objects:   2% (223/11136)   \r",
        "Writing objects:   3% (335/11136)   \r",
        "Writing objects:   4% (446/11136)   \r",
        "Writing objects:   5% (557/11136)   \r"
       ]
      },
      {
       "output_type": "stream",
       "stream": "stdout",
       "text": [
        "Writing objects:   6% (669/11136)   \r",
        "Writing objects:   7% (780/11136)   \r",
        "Writing objects:   8% (891/11136)   \r",
        "Writing objects:   9% (1003/11136)   \r",
        "Writing objects:  10% (1114/11136)   \r",
        "Writing objects:  11% (1225/11136)   \r",
        "Writing objects:  12% (1337/11136)   \r",
        "Writing objects:  13% (1448/11136)   \r",
        "Writing objects:  14% (1560/11136)   \r",
        "Writing objects:  15% (1671/11136)   \r",
        "Writing objects:  16% (1782/11136)   \r",
        "Writing objects:  17% (1894/11136)   \r",
        "Writing objects:  18% (2005/11136)   \r",
        "Writing objects:  19% (2116/11136)   \r",
        "Writing objects:  20% (2228/11136)   \r",
        "Writing objects:  21% (2339/11136)   \r",
        "Writing objects:  22% (2450/11136)   \r"
       ]
      },
      {
       "output_type": "stream",
       "stream": "stdout",
       "text": [
        "Writing objects:  23% (2562/11136)   \r",
        "Writing objects:  24% (2673/11136)   \r",
        "Writing objects:  25% (2785/11136)   \r",
        "Writing objects:  26% (2896/11136)   \r",
        "Writing objects:  27% (3007/11136)   \r",
        "Writing objects:  28% (3119/11136)   \r",
        "Writing objects:  29% (3230/11136)   \r",
        "Writing objects:  30% (3341/11136)   \r",
        "Writing objects:  31% (3453/11136)   \r",
        "Writing objects:  32% (3564/11136)   \r",
        "Writing objects:  33% (3675/11136)   \r",
        "Writing objects:  34% (3791/11136)   \r"
       ]
      },
      {
       "output_type": "stream",
       "stream": "stdout",
       "text": [
        "Writing objects:  35% (3898/11136)   \r"
       ]
      },
      {
       "output_type": "stream",
       "stream": "stdout",
       "text": [
        "Writing objects:  36% (4010/11136)   \r",
        "Writing objects:  37% (4121/11136)   \r",
        "Writing objects:  38% (4232/11136)   \r",
        "Writing objects:  39% (4344/11136)   \r",
        "Writing objects:  40% (4455/11136)   \r",
        "Writing objects:  41% (4566/11136)   \r",
        "Writing objects:  42% (4678/11136)   \r",
        "Writing objects:  43% (4789/11136)   \r",
        "Writing objects:  44% (4900/11136)   \r",
        "Writing objects:  45% (5012/11136)   \r",
        "Writing objects:  46% (5123/11136)   \r",
        "Writing objects:  47% (5234/11136)   \r",
        "Writing objects:  48% (5346/11136)   \r",
        "Writing objects:  49% (5457/11136)   \r"
       ]
      },
      {
       "output_type": "stream",
       "stream": "stdout",
       "text": [
        "Writing objects:  50% (5568/11136)   \r",
        "Writing objects:  51% (5680/11136)   \r",
        "Writing objects:  52% (5791/11136)   \r",
        "Writing objects:  53% (5903/11136)   \r",
        "Writing objects:  54% (6014/11136)   \r",
        "Writing objects:  55% (6125/11136)   \r",
        "Writing objects:  56% (6237/11136)   \r",
        "Writing objects:  57% (6348/11136)   \r",
        "Writing objects:  58% (6460/11136)   \r",
        "Writing objects:  59% (6571/11136)   \r",
        "Writing objects:  60% (6682/11136)   \r",
        "Writing objects:  61% (6793/11136)   \r",
        "Writing objects:  62% (6905/11136)   \r",
        "Writing objects:  63% (7016/11136)   \r",
        "Writing objects:  64% (7129/11136)   \r",
        "Writing objects:  65% (7239/11136)   \r",
        "Writing objects:  66% (7350/11136)   \r",
        "Writing objects:  67% (7462/11136)   \r",
        "Writing objects:  68% (7573/11136)   \r",
        "Writing objects:  69% (7684/11136)   \r",
        "Writing objects:  70% (7796/11136)   \r",
        "Writing objects:  71% (7907/11136)   \r"
       ]
      },
      {
       "output_type": "stream",
       "stream": "stdout",
       "text": [
        "Writing objects:  72% (8018/11136)   \r"
       ]
      },
      {
       "output_type": "stream",
       "stream": "stdout",
       "text": [
        "Writing objects:  73% (8130/11136)   \r",
        "Writing objects:  74% (8241/11136)   \r",
        "Writing objects:  75% (8352/11136)   \r",
        "Writing objects:  76% (8464/11136)   \r",
        "Writing objects:  77% (8575/11136)   \r",
        "Writing objects:  78% (8687/11136)   \r",
        "Writing objects:  79% (8798/11136)   \r",
        "Writing objects:  80% (8909/11136)   \r",
        "Writing objects:  81% (9021/11136)   \r",
        "Writing objects:  82% (9132/11136)   \r",
        "Writing objects:  83% (9243/11136)   \r",
        "Writing objects:  84% (9358/11136)   \r",
        "Writing objects:  85% (9466/11136)   \r",
        "Writing objects:  86% (9577/11136)   \r"
       ]
      },
      {
       "output_type": "stream",
       "stream": "stdout",
       "text": [
        "Writing objects:  87% (9689/11136)   \r",
        "Writing objects:  88% (9800/11136)   \r",
        "Writing objects:  89% (9912/11136)   \r",
        "Writing objects:  90% (10023/11136)   \r"
       ]
      },
      {
       "output_type": "stream",
       "stream": "stdout",
       "text": [
        "Writing objects:  91% (10134/11136)   \r"
       ]
      },
      {
       "output_type": "stream",
       "stream": "stdout",
       "text": [
        "Writing objects:  92% (10246/11136)   \r",
        "Writing objects:  93% (10357/11136)   \r",
        "Writing objects:  94% (10468/11136)   \r",
        "Writing objects:  95% (10580/11136)   \r",
        "Writing objects:  96% (10691/11136)   \r",
        "Writing objects:  97% (10803/11136)   \r",
        "Writing objects:  98% (10914/11136)   \r",
        "Writing objects:  99% (11025/11136)   \r",
        "Writing objects: 100% (11136/11136)   \r"
       ]
      },
      {
       "output_type": "stream",
       "stream": "stdout",
       "text": [
        "Writing objects: 100% (11136/11136), done.\r\n",
        "Total 11136 (delta 5525), reused 0 (delta 0)\r\n"
       ]
      }
     ],
     "prompt_number": 39
    },
    {
     "cell_type": "code",
     "collapsed": false,
     "input": [
      "!git clean -fdx"
     ],
     "language": "python",
     "metadata": {},
     "outputs": [
      {
       "output_type": "stream",
       "stream": "stdout",
       "text": [
        "Removing .git-rewrite/\r\n",
        "warning: failed to remove '.git-rewrite/'\r\n"
       ]
      }
     ],
     "prompt_number": 41
    },
    {
     "cell_type": "code",
     "collapsed": false,
     "input": [
      "# Clean out redundant commits ... ?\n",
      "# Needs git v2\n",
      "#!git filter-branch --commit-filter 'git_commit_non_empty_tree \"$@\"' HEAD\n",
      "#!git filter-branch -f --prune-empty"
     ],
     "language": "python",
     "metadata": {},
     "outputs": []
    }
   ],
   "metadata": {}
  }
 ]
}